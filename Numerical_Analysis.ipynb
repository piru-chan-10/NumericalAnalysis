{
  "nbformat": 4,
  "nbformat_minor": 0,
  "metadata": {
    "colab": {
      "provenance": [],
      "authorship_tag": "ABX9TyNCaZbm0GEXGpqyQF/AdLJn",
      "include_colab_link": true
    },
    "kernelspec": {
      "name": "python3",
      "display_name": "Python 3"
    },
    "language_info": {
      "name": "python"
    }
  },
  "cells": [
    {
      "cell_type": "markdown",
      "metadata": {
        "id": "view-in-github",
        "colab_type": "text"
      },
      "source": [
        "<a href=\"https://colab.research.google.com/github/piru-chan-10/NumericalAnalysis/blob/main/Numerical_Analysis.ipynb\" target=\"_parent\"><img src=\"https://colab.research.google.com/assets/colab-badge.svg\" alt=\"Open In Colab\"/></a>"
      ]
    },
    {
      "cell_type": "code",
      "source": [
        "''' list of formulas methods and algorithms I learned in the\n",
        "    Numerical analysis class\n",
        "    ''''\n",
        "\n",
        "class Numeric:\n",
        "  def __init__(self,data:list[int]):\n",
        "    self.data=data;\n",
        "\n",
        "  def picard(self):\n",
        "    ''' picards method '''\n",
        "  def bessel(self):\n",
        "    ''' bessel formula '''\n",
        "  def guass(self):\n",
        "    ''' guas elimination '''\n",
        "  def runge_kutta(self)"
      ],
      "metadata": {
        "id": "vWxmNBlYvWFr"
      },
      "execution_count": null,
      "outputs": []
    },
    {
      "cell_type": "code",
      "source": [
        "''' Do no edit the code block it is legit and gives the answer of Bisection method '''\n",
        "def Polynomial(expression,val)->int|float:\n",
        "  x=val\n",
        "  return eval(expression)\n",
        "def Bisection(expr):\n",
        "  roots=[]\n",
        "  for i in range(1,100):\n",
        "    if Polynomial(expr,i)>0 and Polynomial(expr,i-1)<0 or Polynomial(expr,i)<0 and Polynomial(expr,i-1)>0:\n",
        "      roots.append([i,i-1])\n",
        "  if roots==[]: return \"no roots\"\n",
        "  else:\n",
        "    U,L=0,0\n",
        "\n",
        "    for i,val in enumerate(roots[-1]):\n",
        "      if Polynomial(expr,val)>0:\n",
        "        U=val\n",
        "        L=roots[-1][i-1]\n",
        "        print(U,L)\n",
        "      else:\n",
        "        U=roots[-1][i-1]\n",
        "\n",
        "    for itr in range(10):\n",
        "      temp=(U+L)/2\n",
        "      if Polynomial(expr,temp)>0:\n",
        "        U=temp\n",
        "      else:\n",
        "        L=temp\n",
        "      if itr==8:\n",
        "        return f'the roots of {expr} are {(U+L)/2}'\n",
        "\n",
        "\n",
        "\n",
        "\n",
        "\n"
      ],
      "metadata": {
        "id": "M8OmLZBSvEiZ"
      },
      "execution_count": null,
      "outputs": []
    },
    {
      "cell_type": "code",
      "source": [
        "Polynomial('x**3-x-11',3)\n",
        "Bisection('x**3-x-11')"
      ],
      "metadata": {
        "colab": {
          "base_uri": "https://localhost:8080/",
          "height": 53
        },
        "id": "s2qAJTqQLRYJ",
        "outputId": "f32f6d4e-25c6-4534-d818-7209c7b8ac18"
      },
      "execution_count": null,
      "outputs": [
        {
          "output_type": "stream",
          "name": "stdout",
          "text": [
            "3 2\n"
          ]
        },
        {
          "output_type": "execute_result",
          "data": {
            "text/plain": [
              "'the roots of x**3-x-11 are 2.3740234375'"
            ],
            "application/vnd.google.colaboratory.intrinsic+json": {
              "type": "string"
            }
          },
          "metadata": {},
          "execution_count": 96
        }
      ]
    },
    {
      "cell_type": "code",
      "source": [
        "Polynomial('x**3-x-11',3)"
      ],
      "metadata": {
        "colab": {
          "base_uri": "https://localhost:8080/"
        },
        "id": "eW0rrsxILW18",
        "outputId": "ce701889-101c-48a9-dd1a-180cc6565207"
      },
      "execution_count": null,
      "outputs": [
        {
          "output_type": "execute_result",
          "data": {
            "text/plain": [
              "13"
            ]
          },
          "metadata": {},
          "execution_count": 13
        }
      ]
    },
    {
      "cell_type": "code",
      "source": [
        "import math\n",
        "eps=1e-10\n",
        "poly=lambda x:x**3-2*x-10\n",
        "def regula_falsi(poly,iterations=4)->list[float]:\n",
        "  bucket =[]\n",
        "  for i in range(1,10):\n",
        "    if poly(i)>0 and poly(i-1)<0 or poly(i)<0 and poly(i-1)>0:\n",
        "      bucket.append([i,i-1])\n",
        "  if bucket==[]: return \"no roots\"\n",
        "  else:\n",
        "    root=bucket[0]\n",
        "    root.sort()\n",
        "    print(root)\n",
        "    x0,x1=root[0],root[1]\n",
        "    print(x0,x1)\n",
        "    for itr in range(iterations):\n",
        "      val=x0-(x1-x0)/(poly(x1)-poly(x0))*poly(x0)\n",
        "      if poly(val)>0:\n",
        "        x0=x1\n",
        "        x1=val\n",
        "        print(x0,x1)\n",
        "      else:\n",
        "        x0=val\n",
        "        print(x0,x1)\n",
        "    return val\n",
        "\n"
      ],
      "metadata": {
        "id": "fl69Si4mc5dZ"
      },
      "execution_count": null,
      "outputs": []
    },
    {
      "cell_type": "code",
      "source": [
        "regula_falsi(poly)"
      ],
      "metadata": {
        "colab": {
          "base_uri": "https://localhost:8080/"
        },
        "id": "1ZVstkpTg9x9",
        "outputId": "e9a29828-a339-4955-e9fe-0cf6492a9756"
      },
      "execution_count": null,
      "outputs": [
        {
          "output_type": "stream",
          "name": "stdout",
          "text": [
            "[2, 3]\n",
            "2 3\n",
            "2.3529411764705883 3\n",
            "2.438636764965566 3\n",
            "2.4571348647022306 3\n",
            "2.461019888654277 3\n"
          ]
        },
        {
          "output_type": "execute_result",
          "data": {
            "text/plain": [
              "2.461019888654277"
            ]
          },
          "metadata": {},
          "execution_count": 12
        }
      ]
    },
    {
      "cell_type": "code",
      "source": [
        " def iteration(poly):\n",
        "  for i in range(1,25):\n",
        "    print(poly(i),poly(i-1))"
      ],
      "metadata": {
        "id": "aQuxoXJwhVU6"
      },
      "execution_count": null,
      "outputs": []
    },
    {
      "cell_type": "code",
      "source": [
        "iteration(poly)"
      ],
      "metadata": {
        "id": "xFjXaTjaotn8",
        "colab": {
          "base_uri": "https://localhost:8080/"
        },
        "outputId": "58a95594-44d2-4961-fafe-8bbe02044a6d"
      },
      "execution_count": null,
      "outputs": [
        {
          "output_type": "stream",
          "name": "stdout",
          "text": [
            "1 2\n",
            "2 1\n",
            "5 2\n",
            "10 5\n",
            "17 10\n",
            "26 17\n",
            "37 26\n",
            "50 37\n",
            "65 50\n",
            "82 65\n",
            "101 82\n",
            "122 101\n",
            "145 122\n",
            "170 145\n",
            "197 170\n",
            "226 197\n",
            "257 226\n",
            "290 257\n",
            "325 290\n",
            "362 325\n",
            "401 362\n",
            "442 401\n",
            "485 442\n",
            "530 485\n"
          ]
        }
      ]
    },
    {
      "cell_type": "code",
      "source": [
        "root"
      ],
      "metadata": {
        "colab": {
          "base_uri": "https://localhost:8080/"
        },
        "id": "BzEA23B5o0dX",
        "outputId": "536ea859-675c-4ed0-ad64-a93e6c4b967b"
      },
      "execution_count": null,
      "outputs": [
        {
          "output_type": "execute_result",
          "data": {
            "text/plain": [
              "[2, 3]"
            ]
          },
          "metadata": {},
          "execution_count": 70
        }
      ]
    },
    {
      "cell_type": "code",
      "source": [
        "function=lambda x: x**4-x-10\n",
        "def Secant(function)->int:\n",
        "  def truncate(number,digits=4):\n",
        "    import math\n",
        "    return math.trunc(number*10.0**digits)/10.0**digits\n",
        "  for i in range(1,100):\n",
        "    if function(i)>0 and function(i-1)<0 or function(i)<0 and function(i-1)>0:\n",
        "      root=[i,i-1]\n",
        "      break\n",
        "  x0,x1=root[0],root[1]\n",
        "  iteration=0\n",
        "  while(True):\n",
        "    x2=x0-(x1-x0)/(function(x1)-function(x0))*function(x0)\n",
        "    x2=truncate(x2,4)\n",
        "    prev=truncate(function(x2))\n",
        "    iteration+=1\\\n",
        "\n",
        "\n",
        "    -\n",
        "\n",
        "\n"
      ],
      "metadata": {
        "id": "yjcIZuWxo9AM"
      },
      "execution_count": null,
      "outputs": []
    },
    {
      "cell_type": "code",
      "source": [
        "1-1-10"
      ],
      "metadata": {
        "id": "oJRLOugghvu2",
        "colab": {
          "base_uri": "https://localhost:8080/"
        },
        "outputId": "d3bde0e5-2e87-4248-a6d8-1a1fdedaa508"
      },
      "execution_count": null,
      "outputs": [
        {
          "output_type": "execute_result",
          "data": {
            "text/plain": [
              "-10"
            ]
          },
          "metadata": {},
          "execution_count": 13
        }
      ]
    },
    {
      "cell_type": "code",
      "source": [
        "import math\n",
        "math.trunc(2.12334)\n"
      ],
      "metadata": {
        "id": "o-yztfsph7oW"
      },
      "execution_count": null,
      "outputs": []
    },
    {
      "cell_type": "code",
      "source": [
        "truncate()"
      ],
      "metadata": {
        "colab": {
          "base_uri": "https://localhost:8080/"
        },
        "id": "2YRx64VAf3pA",
        "outputId": "5528ac64-8d95-4644-eb2c-2f259479409b"
      },
      "execution_count": null,
      "outputs": [
        {
          "output_type": "execute_result",
          "data": {
            "text/plain": [
              "2.34234"
            ]
          },
          "metadata": {},
          "execution_count": 25
        }
      ]
    },
    {
      "cell_type": "code",
      "source": [],
      "metadata": {
        "id": "y4vlrSBWoxo6"
      },
      "execution_count": null,
      "outputs": []
    }
  ]
}