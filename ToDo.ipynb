{
  "nbformat": 4,
  "nbformat_minor": 0,
  "metadata": {
    "colab": {
      "provenance": [],
      "authorship_tag": "ABX9TyPPLR5Agp89wyab9xUW5o7H",
      "include_colab_link": true
    },
    "kernelspec": {
      "name": "python3",
      "display_name": "Python 3"
    },
    "language_info": {
      "name": "python"
    }
  },
  "cells": [
    {
      "cell_type": "markdown",
      "metadata": {
        "id": "view-in-github",
        "colab_type": "text"
      },
      "source": [
        "<a href=\"https://colab.research.google.com/github/piru-chan-10/NumericalAnalysis/blob/main/ToDo.ipynb\" target=\"_parent\"><img src=\"https://colab.research.google.com/assets/colab-badge.svg\" alt=\"Open In Colab\"/></a>"
      ]
    },
    {
      "cell_type": "markdown",
      "source": [
        "** things to learn **\n",
        "** 1  **"
      ],
      "metadata": {
        "id": "1yvjQqbLyDG8"
      }
    },
    {
      "cell_type": "code",
      "execution_count": null,
      "metadata": {
        "id": "4D8Ukofmx2NQ"
      },
      "outputs": [],
      "source": [
        "def large_numbrs(data:list[int]):\n",
        "  data=np.array(data)\n",
        "  ''' law of large number states that if"
      ]
    },
    {
      "cell_type": "code",
      "source": [
        "def bernaulli_distribution(X):\n",
        "  np.f\n",
        "  X=np.array(X)\n",
        "  Xm=np.mean(X)\n",
        "  distribution="
      ],
      "metadata": {
        "id": "ZUHHqd0UzHfM"
      },
      "execution_count": null,
      "outputs": []
    }
  ]
}