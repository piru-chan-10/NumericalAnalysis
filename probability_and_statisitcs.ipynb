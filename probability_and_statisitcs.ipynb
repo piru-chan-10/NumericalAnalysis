{
  "nbformat": 4,
  "nbformat_minor": 0,
  "metadata": {
    "colab": {
      "provenance": [],
      "authorship_tag": "ABX9TyOevNOg7mlkN4rHZsgHogI+",
      "include_colab_link": true
    },
    "kernelspec": {
      "name": "python3",
      "display_name": "Python 3"
    },
    "language_info": {
      "name": "python"
    }
  },
  "cells": [
    {
      "cell_type": "markdown",
      "metadata": {
        "id": "view-in-github",
        "colab_type": "text"
      },
      "source": [
        "<a href=\"https://colab.research.google.com/github/piru-chan-10/NumericalAnalysis/blob/main/probability_and_statisitcs.ipynb\" target=\"_parent\"><img src=\"https://colab.research.google.com/assets/colab-badge.svg\" alt=\"Open In Colab\"/></a>"
      ]
    },
    {
      "cell_type": "code",
      "execution_count": null,
      "metadata": {
        "id": "RGQn4sNslPOT"
      },
      "outputs": [],
      "source": [
        "class PStats:\n",
        "  def __init__(self,data):\n",
        "    pass"
      ]
    },
    {
      "cell_type": "code",
      "source": [
        "class sample:\n",
        "  def __init__(self,data):\n",
        "    self.data=data\n",
        "  def probArray(self):\n",
        "    return [P(self.data[i],self.data) for i in range(len(self.data))]\n",
        "  def P(Si,S):\n",
        "    return S.count(Si)/len(S)\n",
        "  def intersection(self,other):\n",
        "    l=max(len(self.data),len(other))\n",
        "    if l==len(self.data):\n",
        "      return [self.data[i] for i in range(len(self.data)) if self.data[i] in other]\n",
        "    else:\n",
        "      return [other[i] for i in range(len(other)) if other[i] in self.data]\n",
        "  def Union(self,other):\n",
        "    return set(self.data+other)\n",
        "  def addition(self,other):\n",
        "    # if mutually exclusive\n",
        "    if(self.intersection(self.data,other)==[]):\n",
        "      return self.probArray(self.data)+self.probArray(other)\n",
        "    else:\n",
        "      return self.probArray(self.data)+self.probArray(other)-self.probArray(self.intersection(self.data,other))\n"
      ],
      "metadata": {
        "id": "Vc5FymjSqjRf"
      },
      "execution_count": null,
      "outputs": []
    },
    {
      "cell_type": "code",
      "source": [
        "\n"
      ],
      "metadata": {
        "id": "qDNYUSi0qjOt"
      },
      "execution_count": null,
      "outputs": []
    },
    {
      "cell_type": "code",
      "source": [
        "def P(Si,S):\n",
        "  # finds the occurance of Si in Sample (S)\n",
        "  return S.count(Si)/len(S)\n",
        "def addition_theorem(S1,S2):\n",
        "  # if mutually exclusive\n",
        "  return [P(S1[i],S1) for i in range(len(S1))]+[P(S2[i],S2) for i in range(len(S2))]"
      ],
      "metadata": {
        "id": "Ct1HF_DPmIfg"
      },
      "execution_count": 2,
      "outputs": []
    },
    {
      "cell_type": "code",
      "source": [
        "P('a',['a','b','c','d','d','d','a'])"
      ],
      "metadata": {
        "colab": {
          "base_uri": "https://localhost:8080/"
        },
        "id": "62iokxo0owAv",
        "outputId": "2596dc7d-aedd-4734-a638-2a82a34ac436"
      },
      "execution_count": 4,
      "outputs": [
        {
          "output_type": "execute_result",
          "data": {
            "text/plain": [
              "0.2857142857142857"
            ]
          },
          "metadata": {},
          "execution_count": 4
        }
      ]
    },
    {
      "cell_type": "code",
      "source": [
        "addition_theorem(['a','b','c','d','d','d','a'],[1,2,3,3,3,4,5,4])"
      ],
      "metadata": {
        "colab": {
          "base_uri": "https://localhost:8080/"
        },
        "id": "2tKuADYBo6Gj",
        "outputId": "ce425e41-8671-40e8-9413-6adb5bba74d6"
      },
      "execution_count": 5,
      "outputs": [
        {
          "output_type": "execute_result",
          "data": {
            "text/plain": [
              "[0.2857142857142857,\n",
              " 0.14285714285714285,\n",
              " 0.14285714285714285,\n",
              " 0.42857142857142855,\n",
              " 0.42857142857142855,\n",
              " 0.42857142857142855,\n",
              " 0.2857142857142857,\n",
              " 0.125,\n",
              " 0.125,\n",
              " 0.375,\n",
              " 0.375,\n",
              " 0.375,\n",
              " 0.25,\n",
              " 0.125,\n",
              " 0.25]"
            ]
          },
          "metadata": {},
          "execution_count": 5
        }
      ]
    },
    {
      "cell_type": "code",
      "source": [
        "def intersection(A,B):\n",
        "  l=max(len(A),len(B))\n",
        "  if l==len(A):\n",
        "    return [A[i] for i in range(len(A)) if A[i] in B]\n",
        "  else:\n",
        "    return [B[i] for i in range(len(B)) if B[i] in A]"
      ],
      "metadata": {
        "id": "p3S4DWuapaBK"
      },
      "execution_count": 6,
      "outputs": []
    },
    {
      "cell_type": "code",
      "source": [
        "intersection([1,2,3,4,5],[2,56,456,676745,1])"
      ],
      "metadata": {
        "colab": {
          "base_uri": "https://localhost:8080/"
        },
        "id": "KdvjO0pyrfnR",
        "outputId": "2871691d-66c3-4869-8ba2-6fc3301162c3"
      },
      "execution_count": 7,
      "outputs": [
        {
          "output_type": "execute_result",
          "data": {
            "text/plain": [
              "[1, 2]"
            ]
          },
          "metadata": {},
          "execution_count": 7
        }
      ]
    },
    {
      "cell_type": "code",
      "source": [
        "def Union(A,B):\n",
        "  return set(A+B)"
      ],
      "metadata": {
        "id": "c7PgOWWmr6we"
      },
      "execution_count": 8,
      "outputs": []
    },
    {
      "cell_type": "code",
      "source": [
        "Union([1,2,3,4,5],[2,56,456,676745,1])"
      ],
      "metadata": {
        "colab": {
          "base_uri": "https://localhost:8080/"
        },
        "id": "zJIH3UNGs4tS",
        "outputId": "1f8bc5a8-f2e7-457b-c6ee-13e11fc46230"
      },
      "execution_count": 9,
      "outputs": [
        {
          "output_type": "execute_result",
          "data": {
            "text/plain": [
              "{1, 2, 3, 4, 5, 56, 456, 676745}"
            ]
          },
          "metadata": {},
          "execution_count": 9
        }
      ]
    },
    {
      "cell_type": "code",
      "source": [
        "def Event(A,B):\n",
        ""
      ],
      "metadata": {
        "id": "GwPhEDUrs7hA"
      },
      "execution_count": null,
      "outputs": []
    }
  ]
}